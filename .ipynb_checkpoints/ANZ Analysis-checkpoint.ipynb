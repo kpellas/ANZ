{
 "cells": [
  {
   "cell_type": "code",
   "execution_count": 1,
   "id": "fc35e1cc",
   "metadata": {},
   "outputs": [],
   "source": [
    "import pandas as pd\n",
    "import seaborn as sns\n",
    "import numpy as np\n",
    "import matplotlib.pyplot as plt\n",
    "from pprint import pprint as pp\n",
    "from scipy import stats\n"
   ]
  },
  {
   "cell_type": "code",
   "execution_count": 2,
   "id": "46a02869",
   "metadata": {},
   "outputs": [],
   "source": [
    "df = pd.read_excel(\"./ANZ synthesised transaction dataset.xlsx\")"
   ]
  },
  {
   "cell_type": "markdown",
   "id": "2e6b30ce",
   "metadata": {},
   "source": [
    "# Inspecting the Data"
   ]
  },
  {
   "cell_type": "code",
   "execution_count": 3,
   "id": "47ea90b9",
   "metadata": {},
   "outputs": [
    {
     "data": {
      "text/html": [
       "<div>\n",
       "<style scoped>\n",
       "    .dataframe tbody tr th:only-of-type {\n",
       "        vertical-align: middle;\n",
       "    }\n",
       "\n",
       "    .dataframe tbody tr th {\n",
       "        vertical-align: top;\n",
       "    }\n",
       "\n",
       "    .dataframe thead th {\n",
       "        text-align: right;\n",
       "    }\n",
       "</style>\n",
       "<table border=\"1\" class=\"dataframe\">\n",
       "  <thead>\n",
       "    <tr style=\"text-align: right;\">\n",
       "      <th></th>\n",
       "      <th>status</th>\n",
       "      <th>card_present_flag</th>\n",
       "      <th>bpay_biller_code</th>\n",
       "      <th>account</th>\n",
       "      <th>currency</th>\n",
       "      <th>long_lat</th>\n",
       "      <th>txn_description</th>\n",
       "      <th>merchant_id</th>\n",
       "      <th>merchant_code</th>\n",
       "      <th>first_name</th>\n",
       "      <th>...</th>\n",
       "      <th>age</th>\n",
       "      <th>merchant_suburb</th>\n",
       "      <th>merchant_state</th>\n",
       "      <th>extraction</th>\n",
       "      <th>amount</th>\n",
       "      <th>transaction_id</th>\n",
       "      <th>country</th>\n",
       "      <th>customer_id</th>\n",
       "      <th>merchant_long_lat</th>\n",
       "      <th>movement</th>\n",
       "    </tr>\n",
       "  </thead>\n",
       "  <tbody>\n",
       "    <tr>\n",
       "      <th>0</th>\n",
       "      <td>authorized</td>\n",
       "      <td>1.0</td>\n",
       "      <td>NaN</td>\n",
       "      <td>ACC-1598451071</td>\n",
       "      <td>AUD</td>\n",
       "      <td>153.41 -27.95</td>\n",
       "      <td>POS</td>\n",
       "      <td>81c48296-73be-44a7-befa-d053f48ce7cd</td>\n",
       "      <td>NaN</td>\n",
       "      <td>Diana</td>\n",
       "      <td>...</td>\n",
       "      <td>26</td>\n",
       "      <td>Ashmore</td>\n",
       "      <td>QLD</td>\n",
       "      <td>2018-08-01T01:01:15.000+0000</td>\n",
       "      <td>16.25</td>\n",
       "      <td>a623070bfead4541a6b0fff8a09e706c</td>\n",
       "      <td>Australia</td>\n",
       "      <td>CUS-2487424745</td>\n",
       "      <td>153.38 -27.99</td>\n",
       "      <td>debit</td>\n",
       "    </tr>\n",
       "    <tr>\n",
       "      <th>1</th>\n",
       "      <td>authorized</td>\n",
       "      <td>0.0</td>\n",
       "      <td>NaN</td>\n",
       "      <td>ACC-1598451071</td>\n",
       "      <td>AUD</td>\n",
       "      <td>153.41 -27.95</td>\n",
       "      <td>SALES-POS</td>\n",
       "      <td>830a451c-316e-4a6a-bf25-e37caedca49e</td>\n",
       "      <td>NaN</td>\n",
       "      <td>Diana</td>\n",
       "      <td>...</td>\n",
       "      <td>26</td>\n",
       "      <td>Sydney</td>\n",
       "      <td>NSW</td>\n",
       "      <td>2018-08-01T01:13:45.000+0000</td>\n",
       "      <td>14.19</td>\n",
       "      <td>13270a2a902145da9db4c951e04b51b9</td>\n",
       "      <td>Australia</td>\n",
       "      <td>CUS-2487424745</td>\n",
       "      <td>151.21 -33.87</td>\n",
       "      <td>debit</td>\n",
       "    </tr>\n",
       "    <tr>\n",
       "      <th>2</th>\n",
       "      <td>authorized</td>\n",
       "      <td>1.0</td>\n",
       "      <td>NaN</td>\n",
       "      <td>ACC-1222300524</td>\n",
       "      <td>AUD</td>\n",
       "      <td>151.23 -33.94</td>\n",
       "      <td>POS</td>\n",
       "      <td>835c231d-8cdf-4e96-859d-e9d571760cf0</td>\n",
       "      <td>NaN</td>\n",
       "      <td>Michael</td>\n",
       "      <td>...</td>\n",
       "      <td>38</td>\n",
       "      <td>Sydney</td>\n",
       "      <td>NSW</td>\n",
       "      <td>2018-08-01T01:26:15.000+0000</td>\n",
       "      <td>6.42</td>\n",
       "      <td>feb79e7ecd7048a5a36ec889d1a94270</td>\n",
       "      <td>Australia</td>\n",
       "      <td>CUS-2142601169</td>\n",
       "      <td>151.21 -33.87</td>\n",
       "      <td>debit</td>\n",
       "    </tr>\n",
       "    <tr>\n",
       "      <th>3</th>\n",
       "      <td>authorized</td>\n",
       "      <td>1.0</td>\n",
       "      <td>NaN</td>\n",
       "      <td>ACC-1037050564</td>\n",
       "      <td>AUD</td>\n",
       "      <td>153.10 -27.66</td>\n",
       "      <td>SALES-POS</td>\n",
       "      <td>48514682-c78a-4a88-b0da-2d6302e64673</td>\n",
       "      <td>NaN</td>\n",
       "      <td>Rhonda</td>\n",
       "      <td>...</td>\n",
       "      <td>40</td>\n",
       "      <td>Buderim</td>\n",
       "      <td>QLD</td>\n",
       "      <td>2018-08-01T01:38:45.000+0000</td>\n",
       "      <td>40.90</td>\n",
       "      <td>2698170da3704fd981b15e64a006079e</td>\n",
       "      <td>Australia</td>\n",
       "      <td>CUS-1614226872</td>\n",
       "      <td>153.05 -26.68</td>\n",
       "      <td>debit</td>\n",
       "    </tr>\n",
       "    <tr>\n",
       "      <th>4</th>\n",
       "      <td>authorized</td>\n",
       "      <td>1.0</td>\n",
       "      <td>NaN</td>\n",
       "      <td>ACC-1598451071</td>\n",
       "      <td>AUD</td>\n",
       "      <td>153.41 -27.95</td>\n",
       "      <td>SALES-POS</td>\n",
       "      <td>b4e02c10-0852-4273-b8fd-7b3395e32eb0</td>\n",
       "      <td>NaN</td>\n",
       "      <td>Diana</td>\n",
       "      <td>...</td>\n",
       "      <td>26</td>\n",
       "      <td>Mermaid Beach</td>\n",
       "      <td>QLD</td>\n",
       "      <td>2018-08-01T01:51:15.000+0000</td>\n",
       "      <td>3.25</td>\n",
       "      <td>329adf79878c4cf0aeb4188b4691c266</td>\n",
       "      <td>Australia</td>\n",
       "      <td>CUS-2487424745</td>\n",
       "      <td>153.44 -28.06</td>\n",
       "      <td>debit</td>\n",
       "    </tr>\n",
       "  </tbody>\n",
       "</table>\n",
       "<p>5 rows × 23 columns</p>\n",
       "</div>"
      ],
      "text/plain": [
       "       status  card_present_flag bpay_biller_code         account currency  \\\n",
       "0  authorized                1.0              NaN  ACC-1598451071      AUD   \n",
       "1  authorized                0.0              NaN  ACC-1598451071      AUD   \n",
       "2  authorized                1.0              NaN  ACC-1222300524      AUD   \n",
       "3  authorized                1.0              NaN  ACC-1037050564      AUD   \n",
       "4  authorized                1.0              NaN  ACC-1598451071      AUD   \n",
       "\n",
       "        long_lat txn_description                           merchant_id  \\\n",
       "0  153.41 -27.95             POS  81c48296-73be-44a7-befa-d053f48ce7cd   \n",
       "1  153.41 -27.95       SALES-POS  830a451c-316e-4a6a-bf25-e37caedca49e   \n",
       "2  151.23 -33.94             POS  835c231d-8cdf-4e96-859d-e9d571760cf0   \n",
       "3  153.10 -27.66       SALES-POS  48514682-c78a-4a88-b0da-2d6302e64673   \n",
       "4  153.41 -27.95       SALES-POS  b4e02c10-0852-4273-b8fd-7b3395e32eb0   \n",
       "\n",
       "   merchant_code first_name  ...  age merchant_suburb merchant_state  \\\n",
       "0            NaN      Diana  ...   26         Ashmore            QLD   \n",
       "1            NaN      Diana  ...   26          Sydney            NSW   \n",
       "2            NaN    Michael  ...   38          Sydney            NSW   \n",
       "3            NaN     Rhonda  ...   40         Buderim            QLD   \n",
       "4            NaN      Diana  ...   26   Mermaid Beach            QLD   \n",
       "\n",
       "                     extraction amount                    transaction_id  \\\n",
       "0  2018-08-01T01:01:15.000+0000  16.25  a623070bfead4541a6b0fff8a09e706c   \n",
       "1  2018-08-01T01:13:45.000+0000  14.19  13270a2a902145da9db4c951e04b51b9   \n",
       "2  2018-08-01T01:26:15.000+0000   6.42  feb79e7ecd7048a5a36ec889d1a94270   \n",
       "3  2018-08-01T01:38:45.000+0000  40.90  2698170da3704fd981b15e64a006079e   \n",
       "4  2018-08-01T01:51:15.000+0000   3.25  329adf79878c4cf0aeb4188b4691c266   \n",
       "\n",
       "     country     customer_id merchant_long_lat movement  \n",
       "0  Australia  CUS-2487424745     153.38 -27.99    debit  \n",
       "1  Australia  CUS-2487424745     151.21 -33.87    debit  \n",
       "2  Australia  CUS-2142601169     151.21 -33.87    debit  \n",
       "3  Australia  CUS-1614226872     153.05 -26.68    debit  \n",
       "4  Australia  CUS-2487424745     153.44 -28.06    debit  \n",
       "\n",
       "[5 rows x 23 columns]"
      ]
     },
     "execution_count": 3,
     "metadata": {},
     "output_type": "execute_result"
    }
   ],
   "source": [
    "df.head()"
   ]
  },
  {
   "cell_type": "code",
   "execution_count": 4,
   "id": "e8561db9",
   "metadata": {},
   "outputs": [
    {
     "data": {
      "text/plain": [
       "(12043, 23)"
      ]
     },
     "execution_count": 4,
     "metadata": {},
     "output_type": "execute_result"
    }
   ],
   "source": [
    "#Number of transactions and columns\n",
    "df.shape"
   ]
  },
  {
   "cell_type": "code",
   "execution_count": 5,
   "id": "b379a7e4",
   "metadata": {
    "scrolled": true
   },
   "outputs": [
    {
     "name": "stdout",
     "output_type": "stream",
     "text": [
      "<class 'pandas.core.frame.DataFrame'>\n",
      "RangeIndex: 12043 entries, 0 to 12042\n",
      "Data columns (total 23 columns):\n",
      " #   Column             Non-Null Count  Dtype         \n",
      "---  ------             --------------  -----         \n",
      " 0   status             12043 non-null  object        \n",
      " 1   card_present_flag  7717 non-null   float64       \n",
      " 2   bpay_biller_code   885 non-null    object        \n",
      " 3   account            12043 non-null  object        \n",
      " 4   currency           12043 non-null  object        \n",
      " 5   long_lat           12043 non-null  object        \n",
      " 6   txn_description    12043 non-null  object        \n",
      " 7   merchant_id        7717 non-null   object        \n",
      " 8   merchant_code      883 non-null    float64       \n",
      " 9   first_name         12043 non-null  object        \n",
      " 10  balance            12043 non-null  float64       \n",
      " 11  date               12043 non-null  datetime64[ns]\n",
      " 12  gender             12043 non-null  object        \n",
      " 13  age                12043 non-null  int64         \n",
      " 14  merchant_suburb    7717 non-null   object        \n",
      " 15  merchant_state     7717 non-null   object        \n",
      " 16  extraction         12043 non-null  object        \n",
      " 17  amount             12043 non-null  float64       \n",
      " 18  transaction_id     12043 non-null  object        \n",
      " 19  country            12043 non-null  object        \n",
      " 20  customer_id        12043 non-null  object        \n",
      " 21  merchant_long_lat  7717 non-null   object        \n",
      " 22  movement           12043 non-null  object        \n",
      "dtypes: datetime64[ns](1), float64(4), int64(1), object(17)\n",
      "memory usage: 2.1+ MB\n"
     ]
    }
   ],
   "source": [
    "df.info()"
   ]
  },
  {
   "cell_type": "code",
   "execution_count": 6,
   "id": "c37606e5",
   "metadata": {},
   "outputs": [
    {
     "data": {
      "text/plain": [
       "100"
      ]
     },
     "execution_count": 6,
     "metadata": {},
     "output_type": "execute_result"
    }
   ],
   "source": [
    "#number of customers represented\n",
    "df[\"customer_id\"].nunique()"
   ]
  },
  {
   "cell_type": "code",
   "execution_count": 7,
   "id": "ca18674f",
   "metadata": {},
   "outputs": [
    {
     "data": {
      "image/png": "[encoded data removed]",
      "text/plain": [
       "<Figure size 1440x720 with 2 Axes>"
      ]
     },
     "metadata": {
      "needs_background": "light"
     },
     "output_type": "display_data"
    }
   ],
   "source": [
    "#identify columns with missing data (Red is missing)\n",
    "fig, ax = plt.subplots(figsize=(20,10))     \n",
    "cols = df.columns \n",
    "colours = ['#5b6180', '#FF6663'] \n",
    "sns.heatmap(df[cols].isnull(), cmap=sns.color_palette(colours))\n",
    "plt.show()"
   ]
  },
  {
   "cell_type": "code",
   "execution_count": 8,
   "id": "6ec45fb7",
   "metadata": {},
   "outputs": [
    {
     "name": "stdout",
     "output_type": "stream",
     "text": [
      "status - 0\n",
      "card_present_flag - 36\n",
      "bpay_biller_code - 93\n",
      "account - 0\n",
      "currency - 0\n",
      "long_lat - 0\n",
      "txn_description - 0\n",
      "merchant_id - 36\n",
      "merchant_code - 93\n",
      "first_name - 0\n",
      "balance - 0\n",
      "date - 0\n",
      "gender - 0\n",
      "age - 0\n",
      "merchant_suburb - 36\n",
      "merchant_state - 36\n",
      "extraction - 0\n",
      "amount - 0\n",
      "transaction_id - 0\n",
      "country - 0\n",
      "customer_id - 0\n",
      "merchant_long_lat - 36\n",
      "movement - 0\n"
     ]
    }
   ],
   "source": [
    "#percentage of data missing per column\n",
    "\n",
    "for col in df.columns:\n",
    "    pct_missing = np.mean(df[col].isnull())\n",
    "    print(f\"{col} - {round(pct_missing*100)}\")"
   ]
  },
  {
   "cell_type": "code",
   "execution_count": 9,
   "id": "2b33fa41",
   "metadata": {},
   "outputs": [
    {
     "name": "stdout",
     "output_type": "stream",
     "text": [
      "Status: ['authorized' 'posted']\n",
      "Currency: ['AUD']\n",
      "Transaction Description: ['POS' 'SALES-POS' 'PAYMENT' 'INTER BANK' 'PAY/SALARY' 'PHONE BANK']\n",
      "Gender: ['F' 'M']\n",
      "Movement: ['debit' 'credit']\n",
      "Country: ['Australia']\n"
     ]
    }
   ],
   "source": [
    "#Identifying the transaction data that has been captured in the data set\n",
    "\n",
    "print(f\"Status: {df['status'].unique()}\")\n",
    "print(f\"Currency: {df['currency'].unique()}\")\n",
    "print(f\"Transaction Description: {df['txn_description'].unique()}\")\n",
    "print(f\"Gender: {df['gender'].unique()}\")\n",
    "print(f\"Movement: {df['movement'].unique()}\")\n",
    "print(f\"Country: {df['country'].unique()}\")\n"
   ]
  },
  {
   "cell_type": "code",
   "execution_count": 10,
   "id": "9192b4de",
   "metadata": {},
   "outputs": [
    {
     "data": {
      "text/plain": [
       "91"
      ]
     },
     "execution_count": 10,
     "metadata": {},
     "output_type": "execute_result"
    }
   ],
   "source": [
    "#Confirming the time period\n",
    "df['date'].nunique()"
   ]
  },
  {
   "cell_type": "markdown",
   "id": "a2aa4016",
   "metadata": {},
   "source": [
    "# Cleaning Data"
   ]
  },
  {
   "cell_type": "code",
   "execution_count": 11,
   "id": "4a31e2f5",
   "metadata": {},
   "outputs": [],
   "source": [
    "#Adding a column for day of the week\n",
    "df['day_of_week'] = df['date'].dt.day_name()\n",
    "\n",
    "\n",
    "#Making the Merchange Long/Lat more useable for analysis by splitting it across 2 columns\n",
    "df[[\"long\", \"lat\"]] = df[\"merchant_long_lat\"].str.split(' ', 2, expand=True).astype(str).astype(float)"
   ]
  },
  {
   "cell_type": "code",
   "execution_count": 12,
   "id": "d10ae13b",
   "metadata": {},
   "outputs": [],
   "source": [
    "# df = df.drop([\"status\",\"currencytransaction_id\",\"merchant_id\",\"country\",\"extraction\",\"merchant_long_lat\",\"card_present_flag\",\"account\",\"bpay_biller_code\",\"merchant_code\"], axis = 1)"
   ]
  },
  {
   "cell_type": "code",
   "execution_count": 13,
   "id": "92797362",
   "metadata": {},
   "outputs": [],
   "source": [
    "#Dropping unnecessary columns\n",
    "df = df.drop([\"status\", \"currency\", \"transaction_id\", \"merchant_id\", \"country\", \"extraction\", \"merchant_long_lat\", \"card_present_flag\", \"account\", \"card_present_flag\", \"bpay_biller_code\", \"merchant_code\"], axis = 1)\n",
    "             "
   ]
  },
  {
   "cell_type": "code",
   "execution_count": 14,
   "id": "1f01aae7",
   "metadata": {},
   "outputs": [
    {
     "data": {
      "text/html": [
       "<div>\n",
       "<style scoped>\n",
       "    .dataframe tbody tr th:only-of-type {\n",
       "        vertical-align: middle;\n",
       "    }\n",
       "\n",
       "    .dataframe tbody tr th {\n",
       "        vertical-align: top;\n",
       "    }\n",
       "\n",
       "    .dataframe thead th {\n",
       "        text-align: right;\n",
       "    }\n",
       "</style>\n",
       "<table border=\"1\" class=\"dataframe\">\n",
       "  <thead>\n",
       "    <tr style=\"text-align: right;\">\n",
       "      <th></th>\n",
       "      <th>long_lat</th>\n",
       "      <th>txn_description</th>\n",
       "      <th>first_name</th>\n",
       "      <th>balance</th>\n",
       "      <th>date</th>\n",
       "      <th>gender</th>\n",
       "      <th>age</th>\n",
       "      <th>merchant_suburb</th>\n",
       "      <th>merchant_state</th>\n",
       "      <th>amount</th>\n",
       "      <th>customer_id</th>\n",
       "      <th>movement</th>\n",
       "      <th>day_of_week</th>\n",
       "      <th>long</th>\n",
       "      <th>lat</th>\n",
       "    </tr>\n",
       "  </thead>\n",
       "  <tbody>\n",
       "    <tr>\n",
       "      <th>0</th>\n",
       "      <td>153.41 -27.95</td>\n",
       "      <td>POS</td>\n",
       "      <td>Diana</td>\n",
       "      <td>35.39</td>\n",
       "      <td>2018-08-01</td>\n",
       "      <td>F</td>\n",
       "      <td>26</td>\n",
       "      <td>Ashmore</td>\n",
       "      <td>QLD</td>\n",
       "      <td>16.25</td>\n",
       "      <td>CUS-2487424745</td>\n",
       "      <td>debit</td>\n",
       "      <td>Wednesday</td>\n",
       "      <td>153.38</td>\n",
       "      <td>-27.99</td>\n",
       "    </tr>\n",
       "    <tr>\n",
       "      <th>1</th>\n",
       "      <td>153.41 -27.95</td>\n",
       "      <td>SALES-POS</td>\n",
       "      <td>Diana</td>\n",
       "      <td>21.20</td>\n",
       "      <td>2018-08-01</td>\n",
       "      <td>F</td>\n",
       "      <td>26</td>\n",
       "      <td>Sydney</td>\n",
       "      <td>NSW</td>\n",
       "      <td>14.19</td>\n",
       "      <td>CUS-2487424745</td>\n",
       "      <td>debit</td>\n",
       "      <td>Wednesday</td>\n",
       "      <td>151.21</td>\n",
       "      <td>-33.87</td>\n",
       "    </tr>\n",
       "    <tr>\n",
       "      <th>2</th>\n",
       "      <td>151.23 -33.94</td>\n",
       "      <td>POS</td>\n",
       "      <td>Michael</td>\n",
       "      <td>5.71</td>\n",
       "      <td>2018-08-01</td>\n",
       "      <td>M</td>\n",
       "      <td>38</td>\n",
       "      <td>Sydney</td>\n",
       "      <td>NSW</td>\n",
       "      <td>6.42</td>\n",
       "      <td>CUS-2142601169</td>\n",
       "      <td>debit</td>\n",
       "      <td>Wednesday</td>\n",
       "      <td>151.21</td>\n",
       "      <td>-33.87</td>\n",
       "    </tr>\n",
       "    <tr>\n",
       "      <th>3</th>\n",
       "      <td>153.10 -27.66</td>\n",
       "      <td>SALES-POS</td>\n",
       "      <td>Rhonda</td>\n",
       "      <td>2117.22</td>\n",
       "      <td>2018-08-01</td>\n",
       "      <td>F</td>\n",
       "      <td>40</td>\n",
       "      <td>Buderim</td>\n",
       "      <td>QLD</td>\n",
       "      <td>40.90</td>\n",
       "      <td>CUS-1614226872</td>\n",
       "      <td>debit</td>\n",
       "      <td>Wednesday</td>\n",
       "      <td>153.05</td>\n",
       "      <td>-26.68</td>\n",
       "    </tr>\n",
       "    <tr>\n",
       "      <th>4</th>\n",
       "      <td>153.41 -27.95</td>\n",
       "      <td>SALES-POS</td>\n",
       "      <td>Diana</td>\n",
       "      <td>17.95</td>\n",
       "      <td>2018-08-01</td>\n",
       "      <td>F</td>\n",
       "      <td>26</td>\n",
       "      <td>Mermaid Beach</td>\n",
       "      <td>QLD</td>\n",
       "      <td>3.25</td>\n",
       "      <td>CUS-2487424745</td>\n",
       "      <td>debit</td>\n",
       "      <td>Wednesday</td>\n",
       "      <td>153.44</td>\n",
       "      <td>-28.06</td>\n",
       "    </tr>\n",
       "    <tr>\n",
       "      <th>...</th>\n",
       "      <td>...</td>\n",
       "      <td>...</td>\n",
       "      <td>...</td>\n",
       "      <td>...</td>\n",
       "      <td>...</td>\n",
       "      <td>...</td>\n",
       "      <td>...</td>\n",
       "      <td>...</td>\n",
       "      <td>...</td>\n",
       "      <td>...</td>\n",
       "      <td>...</td>\n",
       "      <td>...</td>\n",
       "      <td>...</td>\n",
       "      <td>...</td>\n",
       "      <td>...</td>\n",
       "    </tr>\n",
       "    <tr>\n",
       "      <th>12038</th>\n",
       "      <td>149.83 -29.47</td>\n",
       "      <td>POS</td>\n",
       "      <td>Melissa</td>\n",
       "      <td>14054.14</td>\n",
       "      <td>2018-10-31</td>\n",
       "      <td>F</td>\n",
       "      <td>30</td>\n",
       "      <td>Ringwood</td>\n",
       "      <td>VIC</td>\n",
       "      <td>9.79</td>\n",
       "      <td>CUS-55310383</td>\n",
       "      <td>debit</td>\n",
       "      <td>Wednesday</td>\n",
       "      <td>145.23</td>\n",
       "      <td>-37.81</td>\n",
       "    </tr>\n",
       "    <tr>\n",
       "      <th>12039</th>\n",
       "      <td>151.22 -33.87</td>\n",
       "      <td>SALES-POS</td>\n",
       "      <td>Robert</td>\n",
       "      <td>9137.79</td>\n",
       "      <td>2018-10-31</td>\n",
       "      <td>M</td>\n",
       "      <td>20</td>\n",
       "      <td>Casula</td>\n",
       "      <td>NSW</td>\n",
       "      <td>63.87</td>\n",
       "      <td>CUS-2688605418</td>\n",
       "      <td>debit</td>\n",
       "      <td>Wednesday</td>\n",
       "      <td>150.88</td>\n",
       "      <td>-33.96</td>\n",
       "    </tr>\n",
       "    <tr>\n",
       "      <th>12040</th>\n",
       "      <td>151.12 -33.89</td>\n",
       "      <td>POS</td>\n",
       "      <td>Craig</td>\n",
       "      <td>45394.57</td>\n",
       "      <td>2018-10-31</td>\n",
       "      <td>M</td>\n",
       "      <td>28</td>\n",
       "      <td>Kings Park</td>\n",
       "      <td>NSW</td>\n",
       "      <td>43.96</td>\n",
       "      <td>CUS-2663907001</td>\n",
       "      <td>debit</td>\n",
       "      <td>Wednesday</td>\n",
       "      <td>150.92</td>\n",
       "      <td>-33.74</td>\n",
       "    </tr>\n",
       "    <tr>\n",
       "      <th>12041</th>\n",
       "      <td>144.96 -37.76</td>\n",
       "      <td>SALES-POS</td>\n",
       "      <td>Tyler</td>\n",
       "      <td>11350.67</td>\n",
       "      <td>2018-10-31</td>\n",
       "      <td>M</td>\n",
       "      <td>69</td>\n",
       "      <td>Oakleigh</td>\n",
       "      <td>VIC</td>\n",
       "      <td>30.77</td>\n",
       "      <td>CUS-1388323263</td>\n",
       "      <td>debit</td>\n",
       "      <td>Wednesday</td>\n",
       "      <td>145.09</td>\n",
       "      <td>-37.91</td>\n",
       "    </tr>\n",
       "    <tr>\n",
       "      <th>12042</th>\n",
       "      <td>150.92 -33.77</td>\n",
       "      <td>SALES-POS</td>\n",
       "      <td>Ryan</td>\n",
       "      <td>5517.91</td>\n",
       "      <td>2018-10-31</td>\n",
       "      <td>M</td>\n",
       "      <td>31</td>\n",
       "      <td>Mascot</td>\n",
       "      <td>NSW</td>\n",
       "      <td>22.36</td>\n",
       "      <td>CUS-3129499595</td>\n",
       "      <td>debit</td>\n",
       "      <td>Wednesday</td>\n",
       "      <td>151.19</td>\n",
       "      <td>-33.93</td>\n",
       "    </tr>\n",
       "  </tbody>\n",
       "</table>\n",
       "<p>12043 rows × 15 columns</p>\n",
       "</div>"
      ],
      "text/plain": [
       "            long_lat txn_description first_name   balance       date gender  \\\n",
       "0      153.41 -27.95             POS      Diana     35.39 2018-08-01      F   \n",
       "1      153.41 -27.95       SALES-POS      Diana     21.20 2018-08-01      F   \n",
       "2      151.23 -33.94             POS    Michael      5.71 2018-08-01      M   \n",
       "3      153.10 -27.66       SALES-POS     Rhonda   2117.22 2018-08-01      F   \n",
       "4      153.41 -27.95       SALES-POS      Diana     17.95 2018-08-01      F   \n",
       "...              ...             ...        ...       ...        ...    ...   \n",
       "12038  149.83 -29.47             POS    Melissa  14054.14 2018-10-31      F   \n",
       "12039  151.22 -33.87       SALES-POS     Robert   9137.79 2018-10-31      M   \n",
       "12040  151.12 -33.89             POS      Craig  45394.57 2018-10-31      M   \n",
       "12041  144.96 -37.76       SALES-POS      Tyler  11350.67 2018-10-31      M   \n",
       "12042  150.92 -33.77       SALES-POS       Ryan   5517.91 2018-10-31      M   \n",
       "\n",
       "       age merchant_suburb merchant_state  amount     customer_id movement  \\\n",
       "0       26         Ashmore            QLD   16.25  CUS-2487424745    debit   \n",
       "1       26          Sydney            NSW   14.19  CUS-2487424745    debit   \n",
       "2       38          Sydney            NSW    6.42  CUS-2142601169    debit   \n",
       "3       40         Buderim            QLD   40.90  CUS-1614226872    debit   \n",
       "4       26   Mermaid Beach            QLD    3.25  CUS-2487424745    debit   \n",
       "...    ...             ...            ...     ...             ...      ...   \n",
       "12038   30        Ringwood            VIC    9.79    CUS-55310383    debit   \n",
       "12039   20          Casula            NSW   63.87  CUS-2688605418    debit   \n",
       "12040   28      Kings Park            NSW   43.96  CUS-2663907001    debit   \n",
       "12041   69        Oakleigh            VIC   30.77  CUS-1388323263    debit   \n",
       "12042   31          Mascot            NSW   22.36  CUS-3129499595    debit   \n",
       "\n",
       "      day_of_week    long    lat  \n",
       "0       Wednesday  153.38 -27.99  \n",
       "1       Wednesday  151.21 -33.87  \n",
       "2       Wednesday  151.21 -33.87  \n",
       "3       Wednesday  153.05 -26.68  \n",
       "4       Wednesday  153.44 -28.06  \n",
       "...           ...     ...    ...  \n",
       "12038   Wednesday  145.23 -37.81  \n",
       "12039   Wednesday  150.88 -33.96  \n",
       "12040   Wednesday  150.92 -33.74  \n",
       "12041   Wednesday  145.09 -37.91  \n",
       "12042   Wednesday  151.19 -33.93  \n",
       "\n",
       "[12043 rows x 15 columns]"
      ]
     },
     "execution_count": 14,
     "metadata": {},
     "output_type": "execute_result"
    }
   ],
   "source": [
    "df"
   ]
  },
  {
   "cell_type": "markdown",
   "id": "3e85d553",
   "metadata": {},
   "source": [
    "# Analysing Data"
   ]
  },
  {
   "cell_type": "markdown",
   "id": "a161bf50",
   "metadata": {},
   "source": [
    "## Analysis of the full dataset"
   ]
  },
  {
   "cell_type": "code",
   "execution_count": 15,
   "id": "32c82efd",
   "metadata": {},
   "outputs": [
    {
     "data": {
      "text/html": [
       "<div>\n",
       "<style scoped>\n",
       "    .dataframe tbody tr th:only-of-type {\n",
       "        vertical-align: middle;\n",
       "    }\n",
       "\n",
       "    .dataframe tbody tr th {\n",
       "        vertical-align: top;\n",
       "    }\n",
       "\n",
       "    .dataframe thead th {\n",
       "        text-align: right;\n",
       "    }\n",
       "</style>\n",
       "<table border=\"1\" class=\"dataframe\">\n",
       "  <thead>\n",
       "    <tr style=\"text-align: right;\">\n",
       "      <th></th>\n",
       "      <th>balance</th>\n",
       "      <th>age</th>\n",
       "      <th>amount</th>\n",
       "    </tr>\n",
       "  </thead>\n",
       "  <tbody>\n",
       "    <tr>\n",
       "      <th>count</th>\n",
       "      <td>12043.000000</td>\n",
       "      <td>12043.000000</td>\n",
       "      <td>12043.000000</td>\n",
       "    </tr>\n",
       "    <tr>\n",
       "      <th>mean</th>\n",
       "      <td>14704.195553</td>\n",
       "      <td>30.582330</td>\n",
       "      <td>187.933588</td>\n",
       "    </tr>\n",
       "    <tr>\n",
       "      <th>std</th>\n",
       "      <td>31503.722652</td>\n",
       "      <td>10.046343</td>\n",
       "      <td>592.599934</td>\n",
       "    </tr>\n",
       "    <tr>\n",
       "      <th>min</th>\n",
       "      <td>0.240000</td>\n",
       "      <td>18.000000</td>\n",
       "      <td>0.100000</td>\n",
       "    </tr>\n",
       "    <tr>\n",
       "      <th>25%</th>\n",
       "      <td>3158.585000</td>\n",
       "      <td>22.000000</td>\n",
       "      <td>16.000000</td>\n",
       "    </tr>\n",
       "    <tr>\n",
       "      <th>50%</th>\n",
       "      <td>6432.010000</td>\n",
       "      <td>28.000000</td>\n",
       "      <td>29.000000</td>\n",
       "    </tr>\n",
       "    <tr>\n",
       "      <th>75%</th>\n",
       "      <td>12465.945000</td>\n",
       "      <td>38.000000</td>\n",
       "      <td>53.655000</td>\n",
       "    </tr>\n",
       "    <tr>\n",
       "      <th>max</th>\n",
       "      <td>267128.520000</td>\n",
       "      <td>78.000000</td>\n",
       "      <td>8835.980000</td>\n",
       "    </tr>\n",
       "  </tbody>\n",
       "</table>\n",
       "</div>"
      ],
      "text/plain": [
       "             balance           age        amount\n",
       "count   12043.000000  12043.000000  12043.000000\n",
       "mean    14704.195553     30.582330    187.933588\n",
       "std     31503.722652     10.046343    592.599934\n",
       "min         0.240000     18.000000      0.100000\n",
       "25%      3158.585000     22.000000     16.000000\n",
       "50%      6432.010000     28.000000     29.000000\n",
       "75%     12465.945000     38.000000     53.655000\n",
       "max    267128.520000     78.000000   8835.980000"
      ]
     },
     "execution_count": 15,
     "metadata": {},
     "output_type": "execute_result"
    }
   ],
   "source": [
    "df[[\"balance\", \"age\", \"amount\"]].describe()\n"
   ]
  },
  {
   "cell_type": "code",
   "execution_count": 16,
   "id": "55809a4d",
   "metadata": {},
   "outputs": [
    {
     "name": "stdout",
     "output_type": "stream",
     "text": [
      "Age:\n",
      "  Median: 28\n",
      "  Mean: 31\n",
      "Transaction:\n",
      "  Median: 29\n",
      "  Mean: 188\n",
      "Balance:\n",
      "  Mean: 14704\n",
      "  Median: 6432\n"
     ]
    }
   ],
   "source": [
    "df_balance_median = df['balance'].median()\n",
    "df_age_median = df['age'].median()\n",
    "df_amount_median = df['amount'].median()\n",
    "\n",
    "df_balance_mean = df['balance'].mean()\n",
    "df_age_mean = df['age'].mean()\n",
    "df_amount_mean = df['amount'].mean()\n",
    "\n",
    "\n",
    "\n",
    "\n",
    "print(\"Age:\")\n",
    "print(f\"  Median: {round(df_age_median)}\")\n",
    "print(f\"  Mean: {round(df_age_mean)}\")\n",
    "print(\"Transaction:\")\n",
    "print(f\"  Median: {round(df_amount_median)}\")\n",
    "print(f\"  Mean: {round(df_amount_mean)}\")\n",
    "print(\"Balance:\")\n",
    "print(f\"  Mean: {round(df_balance_mean)}\")\n",
    "print(f\"  Median: {round(df_balance_median)}\")\n",
    "                                   \n"
   ]
  },
  {
   "cell_type": "code",
   "execution_count": 17,
   "id": "e682f561",
   "metadata": {},
   "outputs": [],
   "source": [
    "summary_customer = df.groupby(['customer_id'])\n",
    "median_transaction = round(summary_customer.amount.median(),2)\n",
    "median_balance = round(summary_customer.balance.median(),2)\n",
    "num_transactions = summary_customer.amount.count()\n",
    "high_balance = round(summary_customer.balance.max(),2)\n",
    "low_balance = round(summary_customer.balance.min(),2)\n",
    "salary_sum = round(df.loc[df['txn_description'] == 'PAY/SALARY'].groupby('customer_id')[\"amount\"].sum(),2)\n",
    "\n",
    "\n",
    "salary_median = round(salary_sum.median())\n",
    "median_transaction_overall = round(median_transaction.median())\n",
    "median_balance_overall = round(median_balance.median())\n",
    "num_transactions_overall = round(num_transactions.median())\n",
    "high_balance_overall = round(high_balance.median())\n",
    "low_balance_overall = round(low_balance.median())\n"
   ]
  },
  {
   "cell_type": "code",
   "execution_count": 18,
   "id": "9dda894e",
   "metadata": {},
   "outputs": [
    {
     "data": {
      "text/html": [
       "<div>\n",
       "<style scoped>\n",
       "    .dataframe tbody tr th:only-of-type {\n",
       "        vertical-align: middle;\n",
       "    }\n",
       "\n",
       "    .dataframe tbody tr th {\n",
       "        vertical-align: top;\n",
       "    }\n",
       "\n",
       "    .dataframe thead th {\n",
       "        text-align: right;\n",
       "    }\n",
       "</style>\n",
       "<table border=\"1\" class=\"dataframe\">\n",
       "  <thead>\n",
       "    <tr style=\"text-align: right;\">\n",
       "      <th></th>\n",
       "      <th>Median Salary</th>\n",
       "      <th>Median Transaction Amount</th>\n",
       "      <th>Median Balance</th>\n",
       "      <th>Median Low Balance</th>\n",
       "      <th>Median High Balance</th>\n",
       "    </tr>\n",
       "  </thead>\n",
       "  <tbody>\n",
       "    <tr>\n",
       "      <th>0</th>\n",
       "      <td>14813</td>\n",
       "      <td>33</td>\n",
       "      <td>7362</td>\n",
       "      <td>1088</td>\n",
       "      <td>12936</td>\n",
       "    </tr>\n",
       "  </tbody>\n",
       "</table>\n",
       "</div>"
      ],
      "text/plain": [
       "   Median Salary  Median Transaction Amount  Median Balance  \\\n",
       "0          14813                         33            7362   \n",
       "\n",
       "   Median Low Balance  Median High Balance  \n",
       "0                1088                12936  "
      ]
     },
     "execution_count": 18,
     "metadata": {},
     "output_type": "execute_result"
    }
   ],
   "source": [
    "overall_summary_df = pd.DataFrame([[salary_median, median_transaction_overall, median_balance_overall, low_balance_overall, high_balance_overall]],\n",
    "                  columns= [\"Median Salary\",\"Median Transaction Amount\",\"Median Balance\", \"Median Low Balance\", \"Median High Balance\"])                                    \n",
    "                                   \n",
    "overall_summary_df"
   ]
  },
  {
   "cell_type": "markdown",
   "id": "67e11cf6",
   "metadata": {},
   "source": [
    "## By Transaction Type"
   ]
  },
  {
   "cell_type": "code",
   "execution_count": 19,
   "id": "eb74538f",
   "metadata": {},
   "outputs": [],
   "source": [
    "by_txn_type = df.groupby(df['txn_description'])\n",
    "debit_txn_type = df.loc[df[\"movement\"] != \"credit\"].groupby([\"txn_description\"])\n",
    "avg_transaction = round(debit_txn_type.amount.mean(),2)\n",
    "median_transaction = round(debit_txn_type.amount.median(),2)\n",
    "num_transactions = debit_txn_type.amount.count()                                                           "
   ]
  },
  {
   "cell_type": "code",
   "execution_count": 20,
   "id": "b31e5720",
   "metadata": {},
   "outputs": [
    {
     "data": {
      "text/html": [
       "<div>\n",
       "<style scoped>\n",
       "    .dataframe tbody tr th:only-of-type {\n",
       "        vertical-align: middle;\n",
       "    }\n",
       "\n",
       "    .dataframe tbody tr th {\n",
       "        vertical-align: top;\n",
       "    }\n",
       "\n",
       "    .dataframe thead th {\n",
       "        text-align: right;\n",
       "    }\n",
       "</style>\n",
       "<table border=\"1\" class=\"dataframe\">\n",
       "  <thead>\n",
       "    <tr style=\"text-align: right;\">\n",
       "      <th></th>\n",
       "      <th>Average Transaction Amount</th>\n",
       "      <th>Median Transaction Amount</th>\n",
       "      <th>Number of Transactions (Count)</th>\n",
       "    </tr>\n",
       "    <tr>\n",
       "      <th>Transaction Type</th>\n",
       "      <th></th>\n",
       "      <th></th>\n",
       "      <th></th>\n",
       "    </tr>\n",
       "  </thead>\n",
       "  <tbody>\n",
       "    <tr>\n",
       "      <th>SALES-POS</th>\n",
       "      <td>39.91</td>\n",
       "      <td>20.04</td>\n",
       "      <td>3934</td>\n",
       "    </tr>\n",
       "    <tr>\n",
       "      <th>POS</th>\n",
       "      <td>40.41</td>\n",
       "      <td>19.43</td>\n",
       "      <td>3783</td>\n",
       "    </tr>\n",
       "    <tr>\n",
       "      <th>PAYMENT</th>\n",
       "      <td>77.61</td>\n",
       "      <td>42.50</td>\n",
       "      <td>2600</td>\n",
       "    </tr>\n",
       "    <tr>\n",
       "      <th>INTER BANK</th>\n",
       "      <td>86.70</td>\n",
       "      <td>39.00</td>\n",
       "      <td>742</td>\n",
       "    </tr>\n",
       "    <tr>\n",
       "      <th>PHONE BANK</th>\n",
       "      <td>106.10</td>\n",
       "      <td>43.00</td>\n",
       "      <td>101</td>\n",
       "    </tr>\n",
       "  </tbody>\n",
       "</table>\n",
       "</div>"
      ],
      "text/plain": [
       "                  Average Transaction Amount  Median Transaction Amount  \\\n",
       "Transaction Type                                                          \n",
       "SALES-POS                              39.91                      20.04   \n",
       "POS                                    40.41                      19.43   \n",
       "PAYMENT                                77.61                      42.50   \n",
       "INTER BANK                             86.70                      39.00   \n",
       "PHONE BANK                            106.10                      43.00   \n",
       "\n",
       "                  Number of Transactions (Count)  \n",
       "Transaction Type                                  \n",
       "SALES-POS                                   3934  \n",
       "POS                                         3783  \n",
       "PAYMENT                                     2600  \n",
       "INTER BANK                                   742  \n",
       "PHONE BANK                                   101  "
      ]
     },
     "execution_count": 20,
     "metadata": {},
     "output_type": "execute_result"
    }
   ],
   "source": [
    "summary_by_txn_type = pd.DataFrame({\"Average Transaction Amount\": avg_transaction,\n",
    "                                    \"Median Transaction Amount\": median_transaction,\n",
    "                                    \"Number of Transactions (Count)\": num_transactions,                                                               \n",
    "                                   })\n",
    "summary_by_txn_type.sort_values(\"Number of Transactions (Count)\", ascending = False).rename_axis(\"Transaction Type\")"
   ]
  },
  {
   "cell_type": "code",
   "execution_count": 89,
   "id": "5a2101df",
   "metadata": {},
   "outputs": [
    {
     "data": {
      "image/png": "[encoded data removed]",
      "text/plain": [
       "<Figure size 432x288 with 1 Axes>"
      ]
     },
     "metadata": {
      "needs_background": "light"
     },
     "output_type": "display_data"
    }
   ],
   "source": [
    "height = summary_by_txn_type['Number of Transactions (Count)']\n",
    "\n",
    "x_axis = np.arange(len(height))\n",
    "plt.bar(x_axis, height, color='r', alpha=0.5, align=\"center\")\n",
    "plt.title(\"Number of Transactions per Type\")\n",
    "\n",
    "tick_locations = [value for value in x_axis]\n",
    "\n",
    "plt.xticks(tick_locations, [\"Inter Bank\", \"Payment\", \"Phone Bank\", \"POS\", \"Sales-POS\"])\n",
    "\n",
    "plt.bar(x, height)\n",
    "plt.show()\n"
   ]
  },
  {
   "cell_type": "code",
   "execution_count": null,
   "id": "96236d19",
   "metadata": {},
   "outputs": [],
   "source": []
  },
  {
   "cell_type": "markdown",
   "id": "47fefc9c",
   "metadata": {},
   "source": [
    "## By Customer"
   ]
  },
  {
   "cell_type": "code",
   "execution_count": 23,
   "id": "eb43e427",
   "metadata": {},
   "outputs": [],
   "source": [
    "summary_customer = df.groupby(['customer_id'])\n",
    "median_transaction = round(summary_customer.amount.median(),2)\n",
    "mean_balance = round(summary_customer.balance.mean(),2)\n",
    "median_balance = round(summary_customer.balance.median(),2)\n",
    "num_transactions = summary_customer.amount.count()\n",
    "high_balance = round(summary_customer.balance.max(),2)\n",
    "low_balance = round(summary_customer.balance.min(),2)\n",
    "salary_sum = round(df.loc[df['txn_description'] == 'PAY/SALARY'].groupby('customer_id')[\"amount\"].sum(),2)"
   ]
  },
  {
   "cell_type": "code",
   "execution_count": 24,
   "id": "849a93e8",
   "metadata": {},
   "outputs": [
    {
     "data": {
      "text/html": [
       "<div>\n",
       "<style scoped>\n",
       "    .dataframe tbody tr th:only-of-type {\n",
       "        vertical-align: middle;\n",
       "    }\n",
       "\n",
       "    .dataframe tbody tr th {\n",
       "        vertical-align: top;\n",
       "    }\n",
       "\n",
       "    .dataframe thead th {\n",
       "        text-align: right;\n",
       "    }\n",
       "</style>\n",
       "<table border=\"1\" class=\"dataframe\">\n",
       "  <thead>\n",
       "    <tr style=\"text-align: right;\">\n",
       "      <th></th>\n",
       "      <th>Salary per Month</th>\n",
       "      <th>Median Transaction</th>\n",
       "      <th>Median Balance</th>\n",
       "      <th>Low Balance</th>\n",
       "      <th>High Balance</th>\n",
       "      <th>Transactions per Month</th>\n",
       "    </tr>\n",
       "    <tr>\n",
       "      <th>customer_id</th>\n",
       "      <th></th>\n",
       "      <th></th>\n",
       "      <th></th>\n",
       "      <th></th>\n",
       "      <th></th>\n",
       "      <th></th>\n",
       "    </tr>\n",
       "  </thead>\n",
       "  <tbody>\n",
       "    <tr>\n",
       "      <th>CUS-2487424745</th>\n",
       "      <td>4730.0</td>\n",
       "      <td>11.28</td>\n",
       "      <td>1580.40</td>\n",
       "      <td>3.85</td>\n",
       "      <td>3435.21</td>\n",
       "      <td>193.0</td>\n",
       "    </tr>\n",
       "    <tr>\n",
       "      <th>CUS-2142601169</th>\n",
       "      <td>4343.0</td>\n",
       "      <td>15.97</td>\n",
       "      <td>1132.66</td>\n",
       "      <td>0.25</td>\n",
       "      <td>2758.28</td>\n",
       "      <td>101.0</td>\n",
       "    </tr>\n",
       "    <tr>\n",
       "      <th>CUS-3026014945</th>\n",
       "      <td>6627.0</td>\n",
       "      <td>19.82</td>\n",
       "      <td>5893.36</td>\n",
       "      <td>49.75</td>\n",
       "      <td>11553.31</td>\n",
       "      <td>97.0</td>\n",
       "    </tr>\n",
       "    <tr>\n",
       "      <th>CUS-3378712515</th>\n",
       "      <td>4593.0</td>\n",
       "      <td>19.06</td>\n",
       "      <td>3510.20</td>\n",
       "      <td>423.18</td>\n",
       "      <td>6203.64</td>\n",
       "      <td>87.0</td>\n",
       "    </tr>\n",
       "    <tr>\n",
       "      <th>CUS-1614226872</th>\n",
       "      <td>3866.0</td>\n",
       "      <td>25.38</td>\n",
       "      <td>3618.50</td>\n",
       "      <td>986.67</td>\n",
       "      <td>6065.02</td>\n",
       "      <td>86.0</td>\n",
       "    </tr>\n",
       "    <tr>\n",
       "      <th>...</th>\n",
       "      <td>...</td>\n",
       "      <td>...</td>\n",
       "      <td>...</td>\n",
       "      <td>...</td>\n",
       "      <td>...</td>\n",
       "      <td>...</td>\n",
       "    </tr>\n",
       "    <tr>\n",
       "      <th>CUS-3395687666</th>\n",
       "      <td>3516.0</td>\n",
       "      <td>45.00</td>\n",
       "      <td>16758.60</td>\n",
       "      <td>12808.15</td>\n",
       "      <td>20269.03</td>\n",
       "      <td>13.0</td>\n",
       "    </tr>\n",
       "    <tr>\n",
       "      <th>CUS-3201519139</th>\n",
       "      <td>3667.0</td>\n",
       "      <td>148.00</td>\n",
       "      <td>6812.09</td>\n",
       "      <td>445.04</td>\n",
       "      <td>9332.54</td>\n",
       "      <td>12.0</td>\n",
       "    </tr>\n",
       "    <tr>\n",
       "      <th>CUS-1646183815</th>\n",
       "      <td>3130.0</td>\n",
       "      <td>147.00</td>\n",
       "      <td>54401.14</td>\n",
       "      <td>49743.84</td>\n",
       "      <td>58535.16</td>\n",
       "      <td>11.0</td>\n",
       "    </tr>\n",
       "    <tr>\n",
       "      <th>CUS-495599312</th>\n",
       "      <td>6177.0</td>\n",
       "      <td>178.00</td>\n",
       "      <td>58961.93</td>\n",
       "      <td>49920.66</td>\n",
       "      <td>63656.55</td>\n",
       "      <td>10.0</td>\n",
       "    </tr>\n",
       "    <tr>\n",
       "      <th>CUS-1739931018</th>\n",
       "      <td>3242.0</td>\n",
       "      <td>20.00</td>\n",
       "      <td>4548.19</td>\n",
       "      <td>0.24</td>\n",
       "      <td>8905.77</td>\n",
       "      <td>8.0</td>\n",
       "    </tr>\n",
       "  </tbody>\n",
       "</table>\n",
       "<p>100 rows × 6 columns</p>\n",
       "</div>"
      ],
      "text/plain": [
       "                Salary per Month  Median Transaction  Median Balance  \\\n",
       "customer_id                                                            \n",
       "CUS-2487424745            4730.0               11.28         1580.40   \n",
       "CUS-2142601169            4343.0               15.97         1132.66   \n",
       "CUS-3026014945            6627.0               19.82         5893.36   \n",
       "CUS-3378712515            4593.0               19.06         3510.20   \n",
       "CUS-1614226872            3866.0               25.38         3618.50   \n",
       "...                          ...                 ...             ...   \n",
       "CUS-3395687666            3516.0               45.00        16758.60   \n",
       "CUS-3201519139            3667.0              148.00         6812.09   \n",
       "CUS-1646183815            3130.0              147.00        54401.14   \n",
       "CUS-495599312             6177.0              178.00        58961.93   \n",
       "CUS-1739931018            3242.0               20.00         4548.19   \n",
       "\n",
       "                Low Balance  High Balance  Transactions per Month  \n",
       "customer_id                                                        \n",
       "CUS-2487424745         3.85       3435.21                   193.0  \n",
       "CUS-2142601169         0.25       2758.28                   101.0  \n",
       "CUS-3026014945        49.75      11553.31                    97.0  \n",
       "CUS-3378712515       423.18       6203.64                    87.0  \n",
       "CUS-1614226872       986.67       6065.02                    86.0  \n",
       "...                     ...           ...                     ...  \n",
       "CUS-3395687666     12808.15      20269.03                    13.0  \n",
       "CUS-3201519139       445.04       9332.54                    12.0  \n",
       "CUS-1646183815     49743.84      58535.16                    11.0  \n",
       "CUS-495599312      49920.66      63656.55                    10.0  \n",
       "CUS-1739931018         0.24       8905.77                     8.0  \n",
       "\n",
       "[100 rows x 6 columns]"
      ]
     },
     "execution_count": 24,
     "metadata": {},
     "output_type": "execute_result"
    }
   ],
   "source": [
    "summary_customer = pd.DataFrame({\"Salary per Month\": round(salary_sum/3),\n",
    "                                 \"Median Transaction\": median_transaction,\n",
    "                                 \"Median Balance\": median_balance,\n",
    "                                 \"Low Balance\" : low_balance,\n",
    "                                 \"High Balance\": high_balance,\n",
    "                                 \"Transactions per Month\": round(num_transactions/3),\n",
    "                                })\n",
    "summary_customer.sort_values(\"Transactions per Month\", ascending = False)"
   ]
  },
  {
   "cell_type": "markdown",
   "id": "3281d061",
   "metadata": {},
   "source": [
    "### Customer Transaction Amount (Median)\n",
    "\n",
    "- The lower quartile of Median Transaction  is: 26\n",
    "- The upper quartile of Median Transaction is: 40\n",
    "\n",
    "- The interquartile range of Median Transaction is: 15\n",
    "\n",
    "- The the median of Median Transaction is: 33\n",
    "\n",
    "- Values below 3 could be outliers.\n",
    "\n",
    "- Values above 62 could be outliers.\n",
    "\n",
    "- Count of possible outliers (high): \n",
    "    - False    94\n",
    "    - True      6\n",
    "\n",
    "- Count of possible outliers (low): \n",
    "    - False    100\n"
   ]
  },
  {
   "cell_type": "code",
   "execution_count": 25,
   "id": "0ba01f05",
   "metadata": {},
   "outputs": [
    {
     "data": {
      "image/png": "[encoded data removed]",
      "text/plain": [
       "<Figure size 432x288 with 1 Axes>"
      ]
     },
     "metadata": {
      "needs_background": "light"
     },
     "output_type": "display_data"
    }
   ],
   "source": [
    "plt.hist(summary_customer['Median Transaction'], bins=30)\n",
    "plt.title(\"Median Transaction Amount per Customer\")\n",
    "plt.xlabel('Transaction Value')\n",
    "plt.ylabel('Counts')\n",
    "plt.show()"
   ]
  },
  {
   "cell_type": "code",
   "execution_count": 26,
   "id": "2fb9bc9f",
   "metadata": {},
   "outputs": [
    {
     "data": {
      "image/png": "[encoded data removed]",
      "text/plain": [
       "<Figure size 432x288 with 1 Axes>"
      ]
     },
     "metadata": {
      "needs_background": "light"
     },
     "output_type": "display_data"
    }
   ],
   "source": [
    "sns.boxplot(x=summary_customer['Median Transaction'])\n",
    "plt.xlabel('Transaction Value')\n",
    "plt.show()"
   ]
  },
  {
   "cell_type": "code",
   "execution_count": 27,
   "id": "284a7285",
   "metadata": {},
   "outputs": [
    {
     "name": "stdout",
     "output_type": "stream",
     "text": [
      "The lower quartile of Median Transaction  is: 26\n",
      "The upper quartile of Median Transaction is: 40\n",
      "The interquartile range of Median Transaction is: 15\n",
      "The the median of Median Transaction is: 33\n",
      "Values below 3 could be outliers.\n",
      "Values above 62 could be outliers.\n",
      "Count of possible outliers (high): \n",
      "False    94\n",
      "True      6\n",
      "Name: Median Transaction, dtype: int64\n",
      "Count of possible outliers (low): \n",
      "False    100\n",
      "Name: Median Transaction, dtype: int64\n"
     ]
    }
   ],
   "source": [
    "quartiles = summary_customer['Median Transaction'].quantile([.25,.5,.75])\n",
    "lowerq = quartiles[0.25]\n",
    "upperq = quartiles[0.75]\n",
    "iqr = upperq-lowerq\n",
    "\n",
    "print(f\"The lower quartile of Median Transaction  is: {round(lowerq)}\")\n",
    "print(f\"The upper quartile of Median Transaction is: {round(upperq)}\")\n",
    "print(f\"The interquartile range of Median Transaction is: {round(iqr)}\")\n",
    "print(f\"The median of Median Transaction is: {round(quartiles[0.5])}\")\n",
    "\n",
    "lower_bound = lowerq - (1.5*iqr)\n",
    "upper_bound = upperq + (1.5*iqr)\n",
    "print(f\"Values below {round(lower_bound)} could be outliers.\")\n",
    "print(f\"Values above {round(upper_bound)} could be outliers.\")\n",
    "high_values = summary_customer[\"Median Transaction\"] > upper_bound\n",
    "print(\"Count of possible outliers (high): \")\n",
    "print(high_values.value_counts())\n",
    "lower_values = summary_customer['Median Transaction'] < lower_bound\n",
    "print(\"Count of possible outliers (low): \")\n",
    "print(lower_values.value_counts())"
   ]
  },
  {
   "cell_type": "markdown",
   "id": "27f11db7",
   "metadata": {},
   "source": [
    "### Customer Balance (Median)¶\n",
    " \n",
    "- The lower quartile of Median Balance is: 4641\n",
    "- The upper quartile of Median Balance is: 12844\n",
    "- The interquartile range of Median Balance is: 8203\n",
    "- The the median of Median Balance is: 7362 \n",
    "- Values below -7664 could be outliers.\n",
    "- Values above 25148 could be outliers.\n",
    "- Count of possible outliers (high): \n",
    "    - False    85\n",
    "    - True     15\n",
    "- Count of possible outliers (low): \n",
    "    - False    100\n"
   ]
  },
  {
   "cell_type": "code",
   "execution_count": 39,
   "id": "50635c75",
   "metadata": {
    "scrolled": true
   },
   "outputs": [
    {
     "data": {
      "image/png": "[encoded data removed]",
      "text/plain": [
       "<Figure size 432x288 with 1 Axes>"
      ]
     },
     "metadata": {
      "needs_background": "light"
     },
     "output_type": "display_data"
    }
   ],
   "source": [
    "plt.hist(summary_customer['Median Balance'], bins=200)\n",
    "plt.title(\"Median Balance Amount per Customer\")\n",
    "\n",
    "plt.xlabel('Balance')\n",
    "plt.ylabel('Counts')\n",
    "plt.show()"
   ]
  },
  {
   "cell_type": "code",
   "execution_count": 29,
   "id": "2d773f6f",
   "metadata": {},
   "outputs": [
    {
     "data": {
      "image/png": "[encoded data removed]",
      "text/plain": [
       "<Figure size 432x288 with 1 Axes>"
      ]
     },
     "metadata": {
      "needs_background": "light"
     },
     "output_type": "display_data"
    }
   ],
   "source": [
    "sns.boxplot(x=summary_customer['Median Balance'])\n",
    "plt.show()"
   ]
  },
  {
   "cell_type": "code",
   "execution_count": 30,
   "id": "c4922477",
   "metadata": {},
   "outputs": [
    {
     "name": "stdout",
     "output_type": "stream",
     "text": [
      "The lower quartile of Median Balance is: 4641\n",
      "The upper quartile of Median Balance is: 12844\n",
      "The interquartile range of Median Balance is: 8203\n",
      "The the median of Median Balance is: 7362 \n",
      "Values below -7664 could be outliers.\n",
      "Values above 25148 could be outliers.\n",
      "Count of possible outliers (high): \n",
      "False    85\n",
      "True     15\n",
      "Name: Median Balance, dtype: int64\n",
      "Count of possible outliers (low): \n",
      "False    100\n",
      "Name: Median Balance, dtype: int64\n"
     ]
    }
   ],
   "source": [
    "quartiles = summary_customer['Median Balance'].quantile([.25,.5,.75])\n",
    "lowerq = quartiles[0.25]\n",
    "upperq = quartiles[0.75]\n",
    "iqr = upperq-lowerq\n",
    "\n",
    "print(f\"The lower quartile of Median Balance is: {round(lowerq)}\")\n",
    "print(f\"The upper quartile of Median Balance is: {round(upperq)}\")\n",
    "print(f\"The interquartile range of Median Balance is: {round(iqr)}\")\n",
    "print(f\"The median of Median Balance is: {round(quartiles[0.5])} \")\n",
    "\n",
    "lower_bound = lowerq - (1.5*iqr)\n",
    "upper_bound = upperq + (1.5*iqr)\n",
    "print(f\"Values below {round(lower_bound)} could be outliers.\")\n",
    "print(f\"Values above {round(upper_bound)} could be outliers.\")\n",
    "high_values = summary_customer['Median Balance'] > upper_bound\n",
    "print(\"Count of possible outliers (high): \")\n",
    "print(high_values.value_counts())\n",
    "lower_values = summary_customer['Median Balance'] < lower_bound\n",
    "print(\"Count of possible outliers (low): \")\n",
    "print(lower_values.value_counts())"
   ]
  },
  {
   "cell_type": "markdown",
   "id": "718f655f",
   "metadata": {},
   "source": [
    "### Number of Transactions Per Month Per Customer \n",
    "- The lower quartile of Transactions per month is: 26\n",
    "- The upper quartile of Transactions per month is: 47\n",
    "- The interquartile range of Transactions per month is: 21\n",
    "- The the median of Transactions per month is: 36 \n",
    "- Values below -6 could be outliers.\n",
    "- Values above 79 could be outliers.\n",
    "- Count of possible outliers (high): \n",
    "    - False    92\n",
    "    - True      8\n",
    "- Count of possible outliers (low): \n",
    "    - False    100"
   ]
  },
  {
   "cell_type": "code",
   "execution_count": 41,
   "id": "74a3d3a0",
   "metadata": {},
   "outputs": [
    {
     "data": {
      "image/png": "[encoded data removed]",
      "text/plain": [
       "<Figure size 432x288 with 1 Axes>"
      ]
     },
     "metadata": {
      "needs_background": "light"
     },
     "output_type": "display_data"
    }
   ],
   "source": [
    "plt.hist(summary_customer['Transactions per Month'], bins=30)\n",
    "plt.title(\"Median Transactions per Month (Count)\")\n",
    "\n",
    "plt.xlabel('Number of Transactions')\n",
    "plt.ylabel('Counts')\n",
    "plt.show()"
   ]
  },
  {
   "cell_type": "code",
   "execution_count": 32,
   "id": "11bf9230",
   "metadata": {
    "scrolled": true
   },
   "outputs": [
    {
     "data": {
      "image/png": "[encoded data removed]",
      "text/plain": [
       "<Figure size 432x288 with 1 Axes>"
      ]
     },
     "metadata": {
      "needs_background": "light"
     },
     "output_type": "display_data"
    }
   ],
   "source": [
    "sns.boxplot(x=summary_customer['Transactions per Month'])\n",
    "plt.show()"
   ]
  },
  {
   "cell_type": "code",
   "execution_count": 33,
   "id": "ae0124ef",
   "metadata": {},
   "outputs": [
    {
     "name": "stdout",
     "output_type": "stream",
     "text": [
      "The lower quartile of Transactions per Month is: 26\n",
      "The upper quartile of Transactions per Month is: 47\n",
      "The interquartile range of Transactions per Month is: 21\n",
      "The the median of Transactions per Month is: 36 \n",
      "Values below -6 could be outliers.\n",
      "Values above 79 could be outliers.\n",
      "Count of possible outliers (high): \n",
      "False    92\n",
      "True      8\n",
      "Name: Transactions per Month, dtype: int64\n",
      "Count of possible outliers (low): \n",
      "False    100\n",
      "Name: Transactions per Month, dtype: int64\n"
     ]
    }
   ],
   "source": [
    "quartiles = summary_customer['Transactions per Month'].quantile([.25,.5,.75])\n",
    "lowerq = quartiles[0.25]\n",
    "upperq = quartiles[0.75]\n",
    "iqr = upperq-lowerq\n",
    "\n",
    "print(f\"The lower quartile of Transactions per Month is: {round(lowerq)}\")\n",
    "print(f\"The upper quartile of Transactions per Month is: {round(upperq)}\")\n",
    "print(f\"The interquartile range of Transactions per Month is: {round(iqr)}\")\n",
    "print(f\"The median of Transactions per Month is: {round(quartiles[0.5])} \")\n",
    "\n",
    "lower_bound = lowerq - (1.5*iqr)\n",
    "upper_bound = upperq + (1.5*iqr)\n",
    "print(f\"Values below {round(lower_bound)} could be outliers.\")\n",
    "print(f\"Values above {round(upper_bound)} could be outliers.\")\n",
    "high_values = summary_customer['Transactions per Month'] > upper_bound\n",
    "print(\"Count of possible outliers (high): \")\n",
    "print(high_values.value_counts())\n",
    "lower_values = summary_customer['Transactions per Month'] < lower_bound\n",
    "print(\"Count of possible outliers (low): \")\n",
    "print(lower_values.value_counts())"
   ]
  },
  {
   "cell_type": "markdown",
   "id": "edc56f13",
   "metadata": {},
   "source": [
    "### Customer Salary (Average per Month)\n",
    "- The lower quartile of Salary per Month is: 3864\n",
    "- The upper quartile of Salary per Month is: 7110\n",
    "- he interquartile range of Salary per Month is: 3246\n",
    "- The the median of Salary per Month is: 4938 \n",
    "- Values below -1006 could be outliers.\n",
    "- Values above 11980 could be outliers.\n",
    "- Count of possible outliers (high): \n",
    "    - False    100\n",
    "\n",
    "- Count of possible outliers (low): \n",
    "    - False    100\n"
   ]
  },
  {
   "cell_type": "code",
   "execution_count": 34,
   "id": "d4c0205a",
   "metadata": {},
   "outputs": [
    {
     "data": {
      "image/png": "[encoded data removed]",
      "text/plain": [
       "<Figure size 432x288 with 1 Axes>"
      ]
     },
     "metadata": {
      "needs_background": "light"
     },
     "output_type": "display_data"
    }
   ],
   "source": [
    "plt.hist(summary_customer['Salary per Month'], bins=30)\n",
    "plt.xlabel('Number of Transactions')\n",
    "plt.ylabel('Counts')\n",
    "plt.show()"
   ]
  },
  {
   "cell_type": "code",
   "execution_count": 35,
   "id": "50ec392b",
   "metadata": {},
   "outputs": [
    {
     "data": {
      "image/png": "[encoded data removed]",
      "text/plain": [
       "<Figure size 432x288 with 1 Axes>"
      ]
     },
     "metadata": {
      "needs_background": "light"
     },
     "output_type": "display_data"
    }
   ],
   "source": [
    "sns.boxplot(x=summary_customer['Salary per Month'])\n",
    "plt.show()"
   ]
  },
  {
   "cell_type": "code",
   "execution_count": 36,
   "id": "865894ae",
   "metadata": {},
   "outputs": [
    {
     "name": "stdout",
     "output_type": "stream",
     "text": [
      "The lower quartile of Salary per Month is: 3864\n",
      "The upper quartile of Salary per Month is: 7110\n",
      "The interquartile range of Salary per Month is: 3246\n",
      "The the median of Salary per Month is: 4938 \n",
      "Values below -1006 could be outliers.\n",
      "Values above 11980 could be outliers.\n",
      "Count of possible outliers (high): \n",
      "False    100\n",
      "Name: Salary per Month, dtype: int64\n",
      "Count of possible outliers (low): \n",
      "False    100\n",
      "Name: Salary per Month, dtype: int64\n"
     ]
    }
   ],
   "source": [
    "quartiles = summary_customer['Salary per Month'].quantile([.25,.5,.75])\n",
    "lowerq = quartiles[0.25]\n",
    "upperq = quartiles[0.75]\n",
    "iqr = upperq-lowerq\n",
    "\n",
    "print(f\"The lower quartile of Salary per Month is: {round(lowerq)}\")\n",
    "print(f\"The upper quartile of Salary per Month is: {round(upperq)}\")\n",
    "print(f\"The interquartile range of Salary per Month is: {round(iqr)}\")\n",
    "print(f\"The the median of Salary per Month is: {round(quartiles[0.5])} \")\n",
    "\n",
    "lower_bound = lowerq - (1.5*iqr)\n",
    "upper_bound = upperq + (1.5*iqr)\n",
    "print(f\"Values below {round(lower_bound)} could be outliers.\")\n",
    "print(f\"Values above {round(upper_bound)} could be outliers.\")\n",
    "high_values = summary_customer['Salary per Month'] > upper_bound\n",
    "print(\"Count of possible outliers (high): \")\n",
    "print(high_values.value_counts())\n",
    "lower_values = summary_customer['Salary per Month'] < lower_bound\n",
    "print(\"Count of possible outliers (low): \")\n",
    "print(lower_values.value_counts())"
   ]
  },
  {
   "cell_type": "markdown",
   "id": "e5a0a5b3",
   "metadata": {},
   "source": [
    "## Spending Patterns"
   ]
  },
  {
   "cell_type": "code",
   "execution_count": 90,
   "id": "856290fb",
   "metadata": {},
   "outputs": [
    {
     "data": {
      "image/png": "[encoded data removed]",
      "text/plain": [
       "<Figure size 432x288 with 1 Axes>"
      ]
     },
     "metadata": {
      "needs_background": "light"
     },
     "output_type": "display_data"
    }
   ],
   "source": [
    "df[\"day_of_week\"].value_counts()\n",
    "df[\"day_of_week\"].value_counts().plot(kind='bar')\n",
    "plt.title(\"Transaction Count per Day\")\n",
    "plt.show()"
   ]
  },
  {
   "cell_type": "code",
   "execution_count": 92,
   "id": "2214d65e",
   "metadata": {},
   "outputs": [
    {
     "data": {
      "image/png": "[encoded data removed]",
      "text/plain": [
       "<Figure size 864x576 with 2 Axes>"
      ]
     },
     "metadata": {
      "needs_background": "light"
     },
     "output_type": "display_data"
    }
   ],
   "source": [
    "x = df[\"long\"]\n",
    "y = df[\"lat\"]\n",
    "\n",
    "\n",
    "plt.figure(figsize=(12,8))\n",
    "ax = plt.scatter(x, y,  c=df['balance'])\n",
    "ax = plt.colorbar(ax, label=\"Account Balance\")\n",
    "plt.title(\"Location of Transactions - Coloured by Account Balance\")\n",
    "\n",
    "plt.show()"
   ]
  },
  {
   "cell_type": "code",
   "execution_count": null,
   "id": "5a7e1f16",
   "metadata": {},
   "outputs": [],
   "source": []
  },
  {
   "cell_type": "code",
   "execution_count": null,
   "id": "ed060e48",
   "metadata": {},
   "outputs": [],
   "source": []
  },
  {
   "cell_type": "code",
   "execution_count": null,
   "id": "0cadbb1d",
   "metadata": {},
   "outputs": [],
   "source": []
  }
 ],
 "metadata": {
  "kernelspec": {
   "display_name": "Python 3 (ipykernel)",
   "language": "python",
   "name": "python3"
  },
  "language_info": {
   "codemirror_mode": {
    "name": "ipython",
    "version": 3
   },
   "file_extension": ".py",
   "mimetype": "text/x-python",
   "name": "python",
   "nbconvert_exporter": "python",
   "pygments_lexer": "ipython3",
   "version": "3.9.7"
  }
 },
 "nbformat": 4,
 "nbformat_minor": 5
}
